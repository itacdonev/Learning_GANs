{
 "cells": [
  {
   "cell_type": "markdown",
   "metadata": {},
   "source": [
    "# Imports, hyperparameters and functions"
   ]
  },
  {
   "cell_type": "markdown",
   "metadata": {},
   "source": [
    "### Imports"
   ]
  },
  {
   "cell_type": "code",
   "execution_count": 35,
   "metadata": {},
   "outputs": [],
   "source": [
    "from __future__ import print_function\n",
    "from termcolor import colored,cprint # enable color in print statements\n",
    "\n",
    "import keras\n",
    "import tensorflow as tf\n",
    "from keras.layers import Input, Dense, Lambda\n",
    "from keras.models import Model\n",
    "from keras import objectives, backend as K\n",
    "from keras.datasets import mnist\n",
    "\n",
    "import numpy as np"
   ]
  },
  {
   "cell_type": "code",
   "execution_count": 36,
   "metadata": {},
   "outputs": [
    {
     "name": "stdout",
     "output_type": "stream",
     "text": [
      "Keras version:  2.2.4\n",
      "Tensorflow version:  1.13.1\n"
     ]
    }
   ],
   "source": [
    "print('Keras version: ', keras.__version__)\n",
    "print('Tensorflow version: ', tf.__version__)"
   ]
  },
  {
   "cell_type": "markdown",
   "metadata": {},
   "source": [
    "### Hyperparameters"
   ]
  },
  {
   "cell_type": "code",
   "execution_count": 6,
   "metadata": {},
   "outputs": [],
   "source": [
    "# Set the hyperparameters\n",
    "#------------------------------\n",
    "batch_size = 100\n",
    "original_dim = 28 * 28 # original dimension of an image (height x width)\n",
    "latent_dim = 2\n",
    "intermediate_dim = 256\n",
    "no_epochs = 5\n",
    "epsilon_std = 1.0"
   ]
  },
  {
   "cell_type": "markdown",
   "metadata": {},
   "source": [
    "### Functions"
   ]
  },
  {
   "cell_type": "code",
   "execution_count": 37,
   "metadata": {},
   "outputs": [],
   "source": [
    "def sampling(args: tuple):\n",
    "    # we grab the variables from the tuple\n",
    "    z_mean, z_log_var = args\n",
    "    epsilon = K.random_normal(shape=(K.shape(z_mean)[0], latent_dim), mean=0.,\n",
    "                              stddev=epsilon_std)\n",
    "    return z_mean + K.exp(z_log_var / 2) * epsilon"
   ]
  },
  {
   "cell_type": "markdown",
   "metadata": {},
   "source": [
    "# Variational Autoencoders"
   ]
  },
  {
   "cell_type": "code",
   "execution_count": 38,
   "metadata": {},
   "outputs": [
    {
     "name": "stdout",
     "output_type": "stream",
     "text": [
      "\u001b[31mENCODER\u001b[0m\n",
      "__________________________________________________________________________________________________\n",
      "Layer (type)                    Output Shape         Param #     Connected to                     \n",
      "==================================================================================================\n",
      "input (InputLayer)              (None, 784)          0                                            \n",
      "__________________________________________________________________________________________________\n",
      "encoding (Dense)                (None, 256)          200960      input[0][0]                      \n",
      "__________________________________________________________________________________________________\n",
      "mean (Dense)                    (None, 2)            514         encoding[0][0]                   \n",
      "__________________________________________________________________________________________________\n",
      "log-variance (Dense)            (None, 2)            514         encoding[0][0]                   \n",
      "==================================================================================================\n",
      "Total params: 201,988\n",
      "Trainable params: 201,988\n",
      "Non-trainable params: 0\n",
      "__________________________________________________________________________________________________\n"
     ]
    }
   ],
   "source": [
    "# DEFINE THE ENCODER\n",
    "#------------------------------\n",
    "# Input to the encoder\n",
    "x = Input(shape = (original_dim, ), name = 'input')\n",
    "\n",
    "# Intermediate layer\n",
    "h = Dense(intermediate_dim, activation = 'relu', name = 'encoding')(x)\n",
    "\n",
    "# Define the mean of the latent space\n",
    "z_mean = Dense(latent_dim, name = 'mean')(h)\n",
    "\n",
    "# Define the log variance of the latent space\n",
    "z_log_var = Dense(latent_dim, name = 'log-variance')(h)\n",
    "\n",
    "z = Lambda(sampling, output_shape = (latent_dim, ))([z_mean, z_log_var])\n",
    "\n",
    "# Encoder\n",
    "encoder = Model(x, [z_mean, z_log_var], name = 'encoder')\n",
    "print(colored('ENCODER', 'red'))\n",
    "encoder.summary()"
   ]
  },
  {
   "cell_type": "code",
   "execution_count": 39,
   "metadata": {},
   "outputs": [
    {
     "name": "stdout",
     "output_type": "stream",
     "text": [
      "\u001b[34mDECODER\u001b[0m\n",
      "_________________________________________________________________\n",
      "Layer (type)                 Output Shape              Param #   \n",
      "=================================================================\n",
      "decoder_input (InputLayer)   (None, 2)                 0         \n",
      "_________________________________________________________________\n",
      "decoder_h (Dense)            (None, 256)               768       \n",
      "_________________________________________________________________\n",
      "flat_decoded (Dense)         (None, 784)               201488    \n",
      "=================================================================\n",
      "Total params: 202,256\n",
      "Trainable params: 202,256\n",
      "Non-trainable params: 0\n",
      "_________________________________________________________________\n"
     ]
    }
   ],
   "source": [
    "# DEFINE THE DECODER\n",
    "#------------------------------\n",
    "# Input to the decoder\n",
    "input_decoder = Input(shape = (latent_dim, ), name = 'decoder_input')\n",
    "\n",
    "# Takes the latent space to the intermediate dimension\n",
    "decoder_h = Dense(intermediate_dim, activation = 'relu', name = 'decoder_h')(input_decoder)\n",
    "\n",
    "# Gets the mean from the original dimension\n",
    "x_decoded = Dense(original_dim, activation = 'sigmoid', name = 'flat_decoded')(decoder_h)\n",
    "\n",
    "# Decoder\n",
    "decoder = Model(input_decoder, x_decoded, name = 'decoder')\n",
    "print(colored('DECODER', 'blue'))\n",
    "decoder.summary()"
   ]
  },
  {
   "cell_type": "code",
   "execution_count": 42,
   "metadata": {},
   "outputs": [
    {
     "name": "stdout",
     "output_type": "stream",
     "text": [
      "_________________________________________________________________\n",
      "Layer (type)                 Output Shape              Param #   \n",
      "=================================================================\n",
      "input (InputLayer)           (None, 784)               0         \n",
      "_________________________________________________________________\n",
      "encoder (Model)              [(None, 2), (None, 2)]    201988    \n",
      "_________________________________________________________________\n",
      "decoder (Model)              (None, 784)               202256    \n",
      "=================================================================\n",
      "Total params: 404,244\n",
      "Trainable params: 404,244\n",
      "Non-trainable params: 0\n",
      "_________________________________________________________________\n"
     ]
    }
   ],
   "source": [
    "# Combine encoder and decoder into a single VAE model\n",
    "#------------------------------\n",
    "# grab the output. Recall, that we need to grab the 3rd element our sampling z\n",
    "output_combined = decoder(encoder(x)[1])\n",
    "\n",
    "# link the input and the overall output\n",
    "vae = Model(x, output_combined)\n",
    "\n",
    "# print out what the overall model looks like\n",
    "vae.summary()"
   ]
  },
  {
   "cell_type": "code",
   "execution_count": null,
   "metadata": {},
   "outputs": [],
   "source": []
  }
 ],
 "metadata": {
  "kernelspec": {
   "display_name": "Python 3",
   "language": "python",
   "name": "python3"
  },
  "language_info": {
   "codemirror_mode": {
    "name": "ipython",
    "version": 3
   },
   "file_extension": ".py",
   "mimetype": "text/x-python",
   "name": "python",
   "nbconvert_exporter": "python",
   "pygments_lexer": "ipython3",
   "version": "3.7.3"
  }
 },
 "nbformat": 4,
 "nbformat_minor": 2
}
